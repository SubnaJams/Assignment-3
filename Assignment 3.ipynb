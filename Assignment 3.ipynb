{
 "cells": [
  {
   "cell_type": "markdown",
   "metadata": {},
   "source": [
    "1) <b>Write a function calculation() such that it can accept two variables as arguements and calculate the addition and subtraction of it . And also it must return both addition and subtraction in a single return call.</b>"
   ]
  },
  {
   "cell_type": "code",
   "execution_count": 28,
   "metadata": {},
   "outputs": [
    {
     "name": "stdout",
     "output_type": "stream",
     "text": [
      "(90, 30)\n"
     ]
    }
   ],
   "source": [
    "#Defining a function\n",
    "def calculation(a,b): \n",
    "    return a+b , a-b \n",
    "#Calling function named calculation \n",
    "res=calculation(60,30)\n",
    "print(res)\n",
    "    "
   ]
  },
  {
   "cell_type": "markdown",
   "metadata": {},
   "source": [
    "2) <b>Create a function showEmployee() in such a way that it should accept employee name ,and its salary and display both, and if the salaery is missing in function call it should show it as 9000</b> "
   ]
  },
  {
   "cell_type": "code",
   "execution_count": 17,
   "metadata": {
    "scrolled": false
   },
   "outputs": [
    {
     "name": "stdout",
     "output_type": "stream",
     "text": [
      "Employee Rosi salary is: 8000\n",
      "Employee mike salary is: 9000\n"
     ]
    }
   ],
   "source": [
    "#Defining a function\n",
    "def showEmployee(name,salary=9000):\n",
    "    print(\"Employee\",name,\"salary is:\",salary)\n",
    "#Calling the defined function\n",
    "showEmployee(\"Rosi\",8000)\n",
    "showEmployee(\"mike\")"
   ]
  },
  {
   "cell_type": "markdown",
   "metadata": {},
   "source": [
    "3) <b>Write a function called multipleLetterCount.This function takes in one parameter(a string) and returns a dictionary with the keys being the letters and the value being the count of the letter</b>"
   ]
  },
  {
   "cell_type": "code",
   "execution_count": 29,
   "metadata": {},
   "outputs": [
    {
     "name": "stdout",
     "output_type": "stream",
     "text": [
      "{'C': 1, 'i': 1, 'n': 1, 'd': 1, 'e': 2, 'r': 1, 'l': 2, 'a': 1}\n"
     ]
    }
   ],
   "source": [
    "#Definina a function\n",
    "def multipleLetterCount(str):\n",
    "    dict1={} #Creating a dictionary\n",
    "    for i in str: #iterating parameter 'str' of this function\n",
    "        keys=dict1.keys() #Setting keys of dictionary\n",
    "        if i in keys: \n",
    "            dict1[i]+=1 #Counting letters\n",
    "        else:\n",
    "            dict1[i]=1\n",
    "    return dict1 #returns dictionary\n",
    "print(multipleLetterCount(\"Cinderella\"))#calling and printing"
   ]
  }
 ],
 "metadata": {
  "kernelspec": {
   "display_name": "Python 3",
   "language": "python",
   "name": "python3"
  },
  "language_info": {
   "codemirror_mode": {
    "name": "ipython",
    "version": 3
   },
   "file_extension": ".py",
   "mimetype": "text/x-python",
   "name": "python",
   "nbconvert_exporter": "python",
   "pygments_lexer": "ipython3",
   "version": "3.8.3"
  }
 },
 "nbformat": 4,
 "nbformat_minor": 4
}
